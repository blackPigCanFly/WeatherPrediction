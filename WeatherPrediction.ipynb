{
 "cells": [
  {
   "cell_type": "code",
   "execution_count": 1,
   "metadata": {},
   "outputs": [
    {
     "name": "stderr",
     "output_type": "stream",
     "text": [
      "C:\\Users\\mahssalem\\Anaconda3\\envs\\myEnv\\lib\\site-packages\\sklearn\\cross_validation.py:41: DeprecationWarning: This module was deprecated in version 0.18 in favor of the model_selection module into which all the refactored classes and functions are moved. Also note that the interface of the new CV iterators are different from that of this module. This module will be removed in 0.20.\n",
      "  \"This module will be removed in 0.20.\", DeprecationWarning)\n"
     ]
    }
   ],
   "source": [
    "%matplotlib inline\n",
    "%config InlineBackend.figure_format = 'retina'\n",
    "import numpy as np\n",
    "import pandas as pd\n",
    "import matplotlib.pyplot as plt\n",
    "from sklearn.naive_bayes import BernoulliNB\n",
    "from sklearn.tree import DecisionTreeClassifier\n",
    "from sklearn.cross_validation import train_test_split\n",
    "import matplotlib as mpl\n",
    "from sklearn import metrics\n",
    "\n",
    "import warnings\n",
    "warnings.filterwarnings('ignore')"
   ]
  },
  {
   "cell_type": "code",
   "execution_count": 2,
   "metadata": {},
   "outputs": [],
   "source": [
    "data_path = 'weather.csv'\n",
    "\n",
    "weather = pd.read_csv(data_path)"
   ]
  },
  {
   "cell_type": "code",
   "execution_count": 3,
   "metadata": {},
   "outputs": [
    {
     "data": {
      "text/plain": [
       "Index(['MinTemp_Low', 'MinTemp_Moderate', 'MinTemp_High', 'MaxTemp_Low',\n",
       "       'MaxTemp_Moderate', 'MaxTemp_High', 'Evaporation_Low',\n",
       "       'Evaporation_Moderate', 'Evaporation_High', 'Sunshine_Low',\n",
       "       'Sunshine_Moderate', 'Sunshine_High', 'WindSpeed9am_Low',\n",
       "       'WindSpeed9am_Moderate', 'WindSpeed9am_High', 'WindSpeed3pm_Low',\n",
       "       'WindSpeed3pm_Moderate', 'WindSpeed3pm_High', 'Humidity9am_Low',\n",
       "       'Humidity9am_Moderate', 'Humidity9am_High', 'Humidity3pm_Low',\n",
       "       'Humidity3pm_Moderate', 'Humidity3pm_High', 'Pressure9am_Low',\n",
       "       'Pressure9am_Moderate', 'Pressure9am_High', 'Pressure3pm_Low',\n",
       "       'Pressure3pm_Moderate', 'Pressure3pm_High', 'Cloud9am_Low',\n",
       "       'Cloud9am_Moderate', 'Cloud9am_High', 'Cloud3pm_Low',\n",
       "       'Cloud3pm_Moderate', 'Cloud3pm_High', 'Temp9am_Low', 'Temp9am_Moderate',\n",
       "       'Temp9am_High', 'Temp3pm_Low', 'Temp3pm_Moderate', 'Temp3pm_High',\n",
       "       'RainToday', 'RainTomorrow'],\n",
       "      dtype='object')"
      ]
     },
     "execution_count": 3,
     "metadata": {},
     "output_type": "execute_result"
    }
   ],
   "source": [
    "weather.columns"
   ]
  },
  {
   "cell_type": "code",
   "execution_count": 4,
   "metadata": {},
   "outputs": [
    {
     "data": {
      "text/plain": [
       "2716"
      ]
     },
     "execution_count": 4,
     "metadata": {},
     "output_type": "execute_result"
    }
   ],
   "source": [
    "len(weather)"
   ]
  },
  {
   "cell_type": "code",
   "execution_count": 5,
   "metadata": {},
   "outputs": [
    {
     "data": {
      "text/html": [
       "<div>\n",
       "<style scoped>\n",
       "    .dataframe tbody tr th:only-of-type {\n",
       "        vertical-align: middle;\n",
       "    }\n",
       "\n",
       "    .dataframe tbody tr th {\n",
       "        vertical-align: top;\n",
       "    }\n",
       "\n",
       "    .dataframe thead th {\n",
       "        text-align: right;\n",
       "    }\n",
       "</style>\n",
       "<table border=\"1\" class=\"dataframe\">\n",
       "  <thead>\n",
       "    <tr style=\"text-align: right;\">\n",
       "      <th></th>\n",
       "      <th>MinTemp_Low</th>\n",
       "      <th>MinTemp_Moderate</th>\n",
       "      <th>MinTemp_High</th>\n",
       "      <th>MaxTemp_Low</th>\n",
       "      <th>MaxTemp_Moderate</th>\n",
       "      <th>MaxTemp_High</th>\n",
       "      <th>Evaporation_Low</th>\n",
       "      <th>Evaporation_Moderate</th>\n",
       "      <th>Evaporation_High</th>\n",
       "      <th>Sunshine_Low</th>\n",
       "      <th>...</th>\n",
       "      <th>Cloud3pm_Moderate</th>\n",
       "      <th>Cloud3pm_High</th>\n",
       "      <th>Temp9am_Low</th>\n",
       "      <th>Temp9am_Moderate</th>\n",
       "      <th>Temp9am_High</th>\n",
       "      <th>Temp3pm_Low</th>\n",
       "      <th>Temp3pm_Moderate</th>\n",
       "      <th>Temp3pm_High</th>\n",
       "      <th>RainToday</th>\n",
       "      <th>RainTomorrow</th>\n",
       "    </tr>\n",
       "  </thead>\n",
       "  <tbody>\n",
       "    <tr>\n",
       "      <th>0</th>\n",
       "      <td>0</td>\n",
       "      <td>0</td>\n",
       "      <td>1</td>\n",
       "      <td>0</td>\n",
       "      <td>0</td>\n",
       "      <td>1</td>\n",
       "      <td>1</td>\n",
       "      <td>0</td>\n",
       "      <td>0</td>\n",
       "      <td>1</td>\n",
       "      <td>...</td>\n",
       "      <td>0</td>\n",
       "      <td>1</td>\n",
       "      <td>0</td>\n",
       "      <td>0</td>\n",
       "      <td>1</td>\n",
       "      <td>0</td>\n",
       "      <td>0</td>\n",
       "      <td>1</td>\n",
       "      <td>0</td>\n",
       "      <td>1</td>\n",
       "    </tr>\n",
       "    <tr>\n",
       "      <th>1</th>\n",
       "      <td>0</td>\n",
       "      <td>0</td>\n",
       "      <td>1</td>\n",
       "      <td>0</td>\n",
       "      <td>0</td>\n",
       "      <td>1</td>\n",
       "      <td>0</td>\n",
       "      <td>1</td>\n",
       "      <td>0</td>\n",
       "      <td>1</td>\n",
       "      <td>...</td>\n",
       "      <td>0</td>\n",
       "      <td>1</td>\n",
       "      <td>0</td>\n",
       "      <td>0</td>\n",
       "      <td>1</td>\n",
       "      <td>0</td>\n",
       "      <td>0</td>\n",
       "      <td>1</td>\n",
       "      <td>1</td>\n",
       "      <td>0</td>\n",
       "    </tr>\n",
       "    <tr>\n",
       "      <th>2</th>\n",
       "      <td>0</td>\n",
       "      <td>0</td>\n",
       "      <td>1</td>\n",
       "      <td>0</td>\n",
       "      <td>0</td>\n",
       "      <td>1</td>\n",
       "      <td>0</td>\n",
       "      <td>1</td>\n",
       "      <td>0</td>\n",
       "      <td>0</td>\n",
       "      <td>...</td>\n",
       "      <td>1</td>\n",
       "      <td>0</td>\n",
       "      <td>0</td>\n",
       "      <td>0</td>\n",
       "      <td>1</td>\n",
       "      <td>0</td>\n",
       "      <td>0</td>\n",
       "      <td>1</td>\n",
       "      <td>0</td>\n",
       "      <td>0</td>\n",
       "    </tr>\n",
       "    <tr>\n",
       "      <th>3</th>\n",
       "      <td>0</td>\n",
       "      <td>1</td>\n",
       "      <td>0</td>\n",
       "      <td>0</td>\n",
       "      <td>0</td>\n",
       "      <td>1</td>\n",
       "      <td>0</td>\n",
       "      <td>0</td>\n",
       "      <td>1</td>\n",
       "      <td>0</td>\n",
       "      <td>...</td>\n",
       "      <td>0</td>\n",
       "      <td>0</td>\n",
       "      <td>0</td>\n",
       "      <td>0</td>\n",
       "      <td>1</td>\n",
       "      <td>0</td>\n",
       "      <td>0</td>\n",
       "      <td>1</td>\n",
       "      <td>0</td>\n",
       "      <td>0</td>\n",
       "    </tr>\n",
       "    <tr>\n",
       "      <th>4</th>\n",
       "      <td>0</td>\n",
       "      <td>0</td>\n",
       "      <td>1</td>\n",
       "      <td>0</td>\n",
       "      <td>0</td>\n",
       "      <td>1</td>\n",
       "      <td>0</td>\n",
       "      <td>0</td>\n",
       "      <td>1</td>\n",
       "      <td>0</td>\n",
       "      <td>...</td>\n",
       "      <td>0</td>\n",
       "      <td>0</td>\n",
       "      <td>0</td>\n",
       "      <td>0</td>\n",
       "      <td>1</td>\n",
       "      <td>0</td>\n",
       "      <td>0</td>\n",
       "      <td>1</td>\n",
       "      <td>0</td>\n",
       "      <td>0</td>\n",
       "    </tr>\n",
       "  </tbody>\n",
       "</table>\n",
       "<p>5 rows × 44 columns</p>\n",
       "</div>"
      ],
      "text/plain": [
       "   MinTemp_Low  MinTemp_Moderate  MinTemp_High  MaxTemp_Low  MaxTemp_Moderate  \\\n",
       "0            0                 0             1            0                 0   \n",
       "1            0                 0             1            0                 0   \n",
       "2            0                 0             1            0                 0   \n",
       "3            0                 1             0            0                 0   \n",
       "4            0                 0             1            0                 0   \n",
       "\n",
       "   MaxTemp_High  Evaporation_Low  Evaporation_Moderate  Evaporation_High  \\\n",
       "0             1                1                     0                 0   \n",
       "1             1                0                     1                 0   \n",
       "2             1                0                     1                 0   \n",
       "3             1                0                     0                 1   \n",
       "4             1                0                     0                 1   \n",
       "\n",
       "   Sunshine_Low      ...       Cloud3pm_Moderate  Cloud3pm_High  Temp9am_Low  \\\n",
       "0             1      ...                       0              1            0   \n",
       "1             1      ...                       0              1            0   \n",
       "2             0      ...                       1              0            0   \n",
       "3             0      ...                       0              0            0   \n",
       "4             0      ...                       0              0            0   \n",
       "\n",
       "   Temp9am_Moderate  Temp9am_High  Temp3pm_Low  Temp3pm_Moderate  \\\n",
       "0                 0             1            0                 0   \n",
       "1                 0             1            0                 0   \n",
       "2                 0             1            0                 0   \n",
       "3                 0             1            0                 0   \n",
       "4                 0             1            0                 0   \n",
       "\n",
       "   Temp3pm_High  RainToday  RainTomorrow  \n",
       "0             1          0             1  \n",
       "1             1          1             0  \n",
       "2             1          0             0  \n",
       "3             1          0             0  \n",
       "4             1          0             0  \n",
       "\n",
       "[5 rows x 44 columns]"
      ]
     },
     "execution_count": 5,
     "metadata": {},
     "output_type": "execute_result"
    }
   ],
   "source": [
    "weather.head()"
   ]
  },
  {
   "cell_type": "code",
   "execution_count": 6,
   "metadata": {},
   "outputs": [
    {
     "data": {
      "text/plain": [
       "(2716, 44)"
      ]
     },
     "execution_count": 6,
     "metadata": {},
     "output_type": "execute_result"
    }
   ],
   "source": [
    "weather.shape"
   ]
  },
  {
   "cell_type": "code",
   "execution_count": 7,
   "metadata": {},
   "outputs": [],
   "source": [
    "x_simple = weather['RainToday']\n",
    "y_simple = weather['RainTomorrow']"
   ]
  },
  {
   "cell_type": "code",
   "execution_count": 8,
   "metadata": {
    "scrolled": true
   },
   "outputs": [
    {
     "name": "stdout",
     "output_type": "stream",
     "text": [
      "74.33726067746687\n",
      "             precision    recall  f1-score   support\n",
      "\n",
      "          0       0.81      0.81      0.81      1841\n",
      "          1       0.60      0.60      0.60       875\n",
      "\n",
      "avg / total       0.74      0.74      0.74      2716\n",
      "\n",
      "[[1491  350]\n",
      " [ 347  528]]\n"
     ]
    }
   ],
   "source": [
    "acc = 0\n",
    "postive_weight=0\n",
    "negative_weight=0\n",
    "\n",
    "for i in range(0, len(y_simple)):\n",
    "    if y_simple[i]==1:\n",
    "        postive_weight += 1\n",
    "    elif y_simple[i]==0:\n",
    "        negative_weight += 1\n",
    "\n",
    "for i in range(0, len(x_simple)):\n",
    "    if x_simple[i] == y_simple[i]:\n",
    "        acc +=  1\n",
    "        \n",
    "        \n",
    "print((acc/len(x_simple)*100))\n",
    "print(metrics.classification_report(y_simple, x_simple))\n",
    "print(metrics.confusion_matrix(y_simple, x_simple))"
   ]
  },
  {
   "cell_type": "markdown",
   "metadata": {},
   "source": [
    "# Q1\n",
    "\n",
    "The performance will be poor, as a single attribute, even if an importnat like (RainToday) can't at all alone be enough to build a model which predicts what will happen tomorrow. Yet, we can't know for sure untill we compare it to coming models. \n",
    "\n",
    "When I tried it on model, the precision was 74%, the recall was 74% and the f1-score was also 74%. The accuracy of the model was about 74.3%.\n",
    "\n",
    "From studying the confusion matrix, it appears that the percentage of the false negatives are very high. \n",
    "\n",
    "Since the dataset is imbalanced, I wouldn't go with accuracy as a measure to evaluate the classifier. A mix between precision and recall would be the best, so chosing the f1-score would be the best for me. "
   ]
  },
  {
   "cell_type": "code",
   "execution_count": 9,
   "metadata": {},
   "outputs": [],
   "source": [
    "x = weather.drop('RainTomorrow', axis=1)\n",
    "y = weather['RainTomorrow']"
   ]
  },
  {
   "cell_type": "code",
   "execution_count": 10,
   "metadata": {},
   "outputs": [],
   "source": [
    "x_train, x_test, y_train, y_test = train_test_split(x,y, test_size=0.2)"
   ]
  },
  {
   "cell_type": "code",
   "execution_count": 11,
   "metadata": {},
   "outputs": [
    {
     "data": {
      "text/plain": [
       "((2172, 43), (544, 43), (2172,), (544,))"
      ]
     },
     "execution_count": 11,
     "metadata": {},
     "output_type": "execute_result"
    }
   ],
   "source": [
    "x_train.shape, x_test.shape, y_train.shape, y_test.shape"
   ]
  },
  {
   "cell_type": "code",
   "execution_count": 12,
   "metadata": {},
   "outputs": [
    {
     "name": "stdout",
     "output_type": "stream",
     "text": [
      "training accuracy:  75.32\n",
      "testing accuracy:  73.71\n",
      "\n",
      "Training Matrices: \n",
      "\n",
      "             precision    recall  f1-score   support\n",
      "\n",
      "          0       0.86      0.76      0.81      1481\n",
      "          1       0.59      0.74      0.66       691\n",
      "\n",
      "avg / total       0.78      0.75      0.76      2172\n",
      "\n",
      "[[1126  355]\n",
      " [ 181  510]]\n",
      "\n",
      "\n",
      "Testing Matrices: \n",
      "\n",
      "             precision    recall  f1-score   support\n",
      "\n",
      "          0       0.83      0.76      0.79       360\n",
      "          1       0.60      0.69      0.64       184\n",
      "\n",
      "avg / total       0.75      0.74      0.74       544\n",
      "\n",
      "[[274  86]\n",
      " [ 57 127]]\n"
     ]
    }
   ],
   "source": [
    "BerClass = BernoulliNB()\n",
    "BerClass.fit(x_train, y_train)\n",
    "Y_pred = BerClass.predict(x_test)\n",
    "y_pred_train= BerClass.predict(x_train)\n",
    "acc_log_train = round(BerClass.score(x_train, y_train) * 100, 2)\n",
    "acc_log_test = round(BerClass.score(x_test, y_test) * 100, 2)\n",
    "print(\"training accuracy: \", acc_log_train)\n",
    "print(\"testing accuracy: \", acc_log_test)\n",
    "print(\"\")\n",
    "\n",
    "print(\"Training Matrices: \")\n",
    "print(\"\")\n",
    "print(metrics.classification_report(y_train, y_pred_train))\n",
    "print(metrics.confusion_matrix(y_train, y_pred_train))\n",
    "\n",
    "print(\"\")\n",
    "print(\"\")\n",
    "\n",
    "print(\"Testing Matrices: \")\n",
    "print(\"\")\n",
    "print(metrics.classification_report(y_test, Y_pred))\n",
    "print(metrics.confusion_matrix(y_test, Y_pred))"
   ]
  },
  {
   "cell_type": "markdown",
   "metadata": {},
   "source": [
    "# Q2\n",
    "\n",
    "1)After training on about 80% of the data, and testing on the rest, we find that the f1-score for the training set is 76%, while total accuracy for the training set is 75.6%. And it reduces a little bit on the testing set giving 75% as the f1-score and 74.2% as the total accuracy for the test set. \n",
    "\n",
    "We find that the amount of the total percentage of the false negatives in this model has reduced from the basic model, while the total percentage of false postives has increased. \n",
    "\n",
    "In general, it performs slightly better and we utilized all the features.\n",
    "\n",
    "2)This would mean increasing the dataset. And the more data we have the more training data the model will be trained on, so it would be better. Yet, if the next month's data are just predictions and not totally accurate, we will be left with a biased model towards not accurate information, which may result in the decrease in the model's total performance. "
   ]
  },
  {
   "cell_type": "code",
   "execution_count": 13,
   "metadata": {
    "scrolled": false
   },
   "outputs": [
    {
     "name": "stdout",
     "output_type": "stream",
     "text": [
      "training accuracy:  98.2\n",
      "testing accuracy:  68.57\n",
      "\n",
      "Training Matrices: \n",
      "\n",
      "             precision    recall  f1-score   support\n",
      "\n",
      "          0       1.00      0.97      0.99      1481\n",
      "          1       0.95      1.00      0.97       691\n",
      "\n",
      "avg / total       0.98      0.98      0.98      2172\n",
      "\n",
      "[[1442   39]\n",
      " [   0  691]]\n",
      "\n",
      "\n",
      "Testing Matrices: \n",
      "\n",
      "             precision    recall  f1-score   support\n",
      "\n",
      "          0       0.77      0.74      0.76       360\n",
      "          1       0.53      0.57      0.55       184\n",
      "\n",
      "avg / total       0.69      0.69      0.69       544\n",
      "\n",
      "[[268  92]\n",
      " [ 79 105]]\n"
     ]
    }
   ],
   "source": [
    "# Decision Tree\n",
    "\n",
    "decision_tree = DecisionTreeClassifier(class_weight='balanced')\n",
    "decision_tree.fit(x_train, y_train)\n",
    "Y_pred = decision_tree.predict(x_test)\n",
    "y_pred_train= decision_tree.predict(x_train)\n",
    "acc_log_train = round(decision_tree.score(x_train, y_train) * 100, 2)\n",
    "acc_log_test = round(decision_tree.score(x_test, y_test) * 100, 2)\n",
    "print(\"training accuracy: \", acc_log_train)\n",
    "print(\"testing accuracy: \", acc_log_test)\n",
    "print(\"\")\n",
    "\n",
    "print(\"Training Matrices: \")\n",
    "print(\"\")\n",
    "print(metrics.classification_report(y_train, y_pred_train))\n",
    "print(metrics.confusion_matrix(y_train, y_pred_train))\n",
    "\n",
    "print(\"\")\n",
    "print(\"\")\n",
    "\n",
    "print(\"Testing Matrices: \")\n",
    "print(\"\")\n",
    "print(metrics.classification_report(y_test, Y_pred))\n",
    "print(metrics.confusion_matrix(y_test, Y_pred))"
   ]
  },
  {
   "cell_type": "markdown",
   "metadata": {},
   "source": [
    "# Q3\n",
    "1) Even though the classifier is well trained, as it's training accuracy reaches to 98.3%, the testing accuracy of the classifier is nearly 68.7%. If we used f1-score, the training score is 98% while testing score is 69%. This is caused due to overfitting. \n",
    "\n",
    "2) Using more data can reduce the overfitting which will result in an overall improvemnet to the model."
   ]
  },
  {
   "cell_type": "markdown",
   "metadata": {},
   "source": [
    "# Q4\n",
    "Yes, it suffers from overfitting as the training accuracy reaches to 98.5% and the testing can't reach more than 68.7%. This means that the model memorized the dataset but fails to generalize on unseen data. \n",
    "\n",
    "After tuning some parameters like seen in figures, we used the optimized solutions for each of them to build the decision tree, and even though we had a decrease of the training accuracy, we increased the testing accuracy and reduced the overfitting to minimal. The current training accuracy of the improved model is 70% and testing accuracy is 70%"
   ]
  },
  {
   "cell_type": "code",
   "execution_count": 14,
   "metadata": {},
   "outputs": [],
   "source": [
    "from sklearn.metrics import roc_curve, auc\n",
    "false_positive_rate, true_positive_rate, thresholds = roc_curve(y_test, Y_pred)\n",
    "roc_auc = auc(false_positive_rate, true_positive_rate)"
   ]
  },
  {
   "cell_type": "code",
   "execution_count": 15,
   "metadata": {},
   "outputs": [
    {
     "data": {
      "image/png": "[encoded data removed]",
      "text/plain": [
       "<matplotlib.figure.Figure at 0x263a9af00f0>"
      ]
     },
     "metadata": {
      "image/png": {
       "height": 263,
       "width": 393
      }
     },
     "output_type": "display_data"
    }
   ],
   "source": [
    "max_depths = np.linspace(1, 32, 32, endpoint=True)\n",
    "train_results = []\n",
    "test_results = []\n",
    "for max_depth in max_depths:\n",
    "   dt = DecisionTreeClassifier(max_depth=max_depth)\n",
    "   dt.fit(x_train, y_train)\n",
    "   train_pred = dt.predict(x_train)\n",
    "   false_positive_rate, true_positive_rate, thresholds = roc_curve(y_train, train_pred)\n",
    "   roc_auc = auc(false_positive_rate, true_positive_rate)\n",
    "   # Add auc score to previous train results\n",
    "   train_results.append(roc_auc)\n",
    "   y_pred = dt.predict(x_test)\n",
    "   false_positive_rate, true_positive_rate, thresholds = roc_curve(y_test, y_pred)\n",
    "   roc_auc = auc(false_positive_rate, true_positive_rate)\n",
    "   # Add auc score to previous test results\n",
    "   test_results.append(roc_auc)\n",
    "from matplotlib.legend_handler import HandlerLine2D\n",
    "line1, = plt.plot(max_depths, train_results, label='Train AUC')\n",
    "line2, = plt.plot(max_depths, test_results, label='Test AUC')\n",
    "plt.legend(handler_map={line1: HandlerLine2D(numpoints=2)})\n",
    "plt.ylabel('AUC score')\n",
    "plt.xlabel('Tree depth')\n",
    "plt.show()"
   ]
  },
  {
   "cell_type": "code",
   "execution_count": 16,
   "metadata": {},
   "outputs": [
    {
     "data": {
      "image/png": "[encoded data removed]",
      "text/plain": [
       "<matplotlib.figure.Figure at 0x263aac03278>"
      ]
     },
     "metadata": {
      "image/png": {
       "height": 263,
       "width": 393
      }
     },
     "output_type": "display_data"
    }
   ],
   "source": [
    "min_samples_splits = np.linspace(0.1, 1.0, 10, endpoint=True)\n",
    "train_results = []\n",
    "test_results = []\n",
    "for min_samples_split in min_samples_splits:\n",
    "   dt = DecisionTreeClassifier(min_samples_split=min_samples_split)\n",
    "   dt.fit(x_train, y_train)\n",
    "   train_pred = dt.predict(x_train)\n",
    "   false_positive_rate, true_positive_rate, thresholds =    roc_curve(y_train, train_pred)\n",
    "   roc_auc = auc(false_positive_rate, true_positive_rate)\n",
    "   train_results.append(roc_auc)\n",
    "   y_pred = dt.predict(x_test)\n",
    "   false_positive_rate, true_positive_rate, thresholds = roc_curve(y_test, y_pred)\n",
    "   roc_auc = auc(false_positive_rate, true_positive_rate)\n",
    "   test_results.append(roc_auc)\n",
    "from matplotlib.legend_handler import HandlerLine2D\n",
    "line1, = plt.plot(min_samples_splits, train_results, 'b', label='Train AUC')\n",
    "line2, = plt.plot(min_samples_splits, test_results, 'r', label='Test AUC')\n",
    "plt.legend(handler_map={line1: HandlerLine2D(numpoints=2)})\n",
    "plt.ylabel('AUC score')\n",
    "plt.xlabel('min samples split')\n",
    "plt.show()"
   ]
  },
  {
   "cell_type": "code",
   "execution_count": 17,
   "metadata": {
    "scrolled": false
   },
   "outputs": [
    {
     "data": {
      "image/png": "[encoded data removed]",
      "text/plain": [
       "<matplotlib.figure.Figure at 0x263a9af01d0>"
      ]
     },
     "metadata": {
      "image/png": {
       "height": 263,
       "width": 393
      }
     },
     "output_type": "display_data"
    }
   ],
   "source": [
    "min_samples_leafs = np.linspace(0.1, 0.5, 5, endpoint=True)\n",
    "train_results = []\n",
    "test_results = []\n",
    "for min_samples_leaf in min_samples_leafs:\n",
    "   dt = DecisionTreeClassifier(min_samples_leaf=min_samples_leaf)\n",
    "   dt.fit(x_train, y_train)\n",
    "   train_pred = dt.predict(x_train)\n",
    "   false_positive_rate, true_positive_rate, thresholds = roc_curve(y_train, train_pred)\n",
    "   roc_auc = auc(false_positive_rate, true_positive_rate)\n",
    "   train_results.append(roc_auc)\n",
    "   y_pred = dt.predict(x_test)\n",
    "   false_positive_rate, true_positive_rate, thresholds = roc_curve(y_test, y_pred)\n",
    "   roc_auc = auc(false_positive_rate, true_positive_rate)\n",
    "   test_results.append(roc_auc)\n",
    "from matplotlib.legend_handler import HandlerLine2D\n",
    "line1, = plt.plot(min_samples_leafs, train_results, 'b', label='Train AUC')\n",
    "line2, = plt.plot(min_samples_leafs, test_results, 'r', label='Test AU')\n",
    "plt.legend(handler_map={line1: HandlerLine2D(numpoints=2)})\n",
    "plt.ylabel('AUC score')\n",
    "plt.xlabel('min samples leaf')\n",
    "plt.show()"
   ]
  },
  {
   "cell_type": "code",
   "execution_count": 18,
   "metadata": {},
   "outputs": [
    {
     "name": "stdout",
     "output_type": "stream",
     "text": [
      "training accuracy:  70.76\n",
      "testing accuracy:  70.96\n",
      "\n",
      "Training Matrices: \n",
      "\n",
      "             precision    recall  f1-score   support\n",
      "\n",
      "          0       0.83      0.72      0.77      1481\n",
      "          1       0.53      0.67      0.59       691\n",
      "\n",
      "avg / total       0.73      0.71      0.72      2172\n",
      "\n",
      "[[1073  408]\n",
      " [ 227  464]]\n",
      "\n",
      "\n",
      "Testing Matrices: \n",
      "\n",
      "             precision    recall  f1-score   support\n",
      "\n",
      "          0       0.80      0.74      0.77       360\n",
      "          1       0.56      0.65      0.60       184\n",
      "\n",
      "avg / total       0.72      0.71      0.71       544\n",
      "\n",
      "[[267  93]\n",
      " [ 65 119]]\n"
     ]
    }
   ],
   "source": [
    "decision_tree = DecisionTreeClassifier(class_weight='balanced', criterion='gini', max_depth=5,\n",
    " max_features=None, max_leaf_nodes=3,\n",
    " min_impurity_split=1e-07, min_samples_leaf=0.4,\n",
    " min_samples_split=0.2, min_weight_fraction_leaf=0.0,\n",
    " presort=False, random_state=None, splitter='best')\n",
    "decision_tree.fit(x_train, y_train)\n",
    "Y_pred = decision_tree.predict(x_test)\n",
    "y_pred_train= decision_tree.predict(x_train)\n",
    "acc_log_train = round(decision_tree.score(x_train, y_train) * 100, 2)\n",
    "acc_log_test = round(decision_tree.score(x_test, y_test) * 100, 2)\n",
    "print(\"training accuracy: \", acc_log_train)\n",
    "print(\"testing accuracy: \", acc_log_test)\n",
    "print(\"\")\n",
    "\n",
    "print(\"Training Matrices: \")\n",
    "print(\"\")\n",
    "print(metrics.classification_report(y_train, y_pred_train))\n",
    "print(metrics.confusion_matrix(y_train, y_pred_train))\n",
    "\n",
    "print(\"\")\n",
    "print(\"\")\n",
    "\n",
    "print(\"Testing Matrices: \")\n",
    "print(\"\")\n",
    "print(metrics.classification_report(y_test, Y_pred))\n",
    "print(metrics.confusion_matrix(y_test, Y_pred))"
   ]
  }
 ],
 "metadata": {
  "kernelspec": {
   "display_name": "Python 3",
   "language": "python",
   "name": "python3"
  },
  "language_info": {
   "codemirror_mode": {
    "name": "ipython",
    "version": 3
   },
   "file_extension": ".py",
   "mimetype": "text/x-python",
   "name": "python",
   "nbconvert_exporter": "python",
   "pygments_lexer": "ipython3",
   "version": "3.5.4"
  }
 },
 "nbformat": 4,
 "nbformat_minor": 2
}
